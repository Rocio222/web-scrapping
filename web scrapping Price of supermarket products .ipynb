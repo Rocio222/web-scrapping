{
 "cells": [
  {
   "cell_type": "markdown",
   "metadata": {},
   "source": [
    "### Price of supermarket products"
   ]
  },
  {
   "cell_type": "code",
   "execution_count": 1,
   "metadata": {},
   "outputs": [],
   "source": [
    "import requests\n",
    "from bs4 import BeautifulSoup\n",
    "import pandas as pd"
   ]
  },
  {
   "cell_type": "code",
   "execution_count": 2,
   "metadata": {},
   "outputs": [],
   "source": [
    "url=\"https://www.dia.es/compra-online/search?text=cerveza&x=0&y=0\""
   ]
  },
  {
   "cell_type": "code",
   "execution_count": 3,
   "metadata": {},
   "outputs": [
    {
     "name": "stdout",
     "output_type": "stream",
     "text": [
      "True\n",
      "True\n",
      "True\n"
     ]
    },
    {
     "data": {
      "text/html": [
       "<div>\n",
       "<style scoped>\n",
       "    .dataframe tbody tr th:only-of-type {\n",
       "        vertical-align: middle;\n",
       "    }\n",
       "\n",
       "    .dataframe tbody tr th {\n",
       "        vertical-align: top;\n",
       "    }\n",
       "\n",
       "    .dataframe thead th {\n",
       "        text-align: right;\n",
       "    }\n",
       "</style>\n",
       "<table border=\"1\" class=\"dataframe\">\n",
       "  <thead>\n",
       "    <tr style=\"text-align: right;\">\n",
       "      <th></th>\n",
       "      <th>Producto</th>\n",
       "      <th>Precio</th>\n",
       "      <th>Precio/L</th>\n",
       "    </tr>\n",
       "  </thead>\n",
       "  <tbody>\n",
       "    <tr>\n",
       "      <th>0</th>\n",
       "      <td>MAHOU MIXTA cerveza con limón lata 33 cl</td>\n",
       "      <td>0,65€</td>\n",
       "      <td>(1,97€/l.)</td>\n",
       "    </tr>\n",
       "    <tr>\n",
       "      <th>1</th>\n",
       "      <td>AMSTEL cerveza lata 50 cl</td>\n",
       "      <td>0,66€</td>\n",
       "      <td>(1,32€/l.)</td>\n",
       "    </tr>\n",
       "    <tr>\n",
       "      <th>2</th>\n",
       "      <td>AMSTEL cerveza radler con limón lata 33 cl</td>\n",
       "      <td>0,61€</td>\n",
       "      <td>(1,85€/l.)</td>\n",
       "    </tr>\n",
       "    <tr>\n",
       "      <th>3</th>\n",
       "      <td>AMSTEL cerveza clásica lata 33 cl</td>\n",
       "      <td>0,34€</td>\n",
       "      <td>(1,03€/l.)</td>\n",
       "    </tr>\n",
       "    <tr>\n",
       "      <th>4</th>\n",
       "      <td>MAHOU cerveza clásica pack 24 latas 33 cl</td>\n",
       "      <td>12,25€</td>\n",
       "      <td>(1,55€/l.)</td>\n",
       "    </tr>\n",
       "    <tr>\n",
       "      <th>...</th>\n",
       "      <td>...</td>\n",
       "      <td>...</td>\n",
       "      <td>...</td>\n",
       "    </tr>\n",
       "    <tr>\n",
       "      <th>67</th>\n",
       "      <td>MAHOU cerveza tostada 0,0% alcohol lata 33 cl</td>\n",
       "      <td>0,63€</td>\n",
       "      <td>(1,91€/l.)</td>\n",
       "    </tr>\n",
       "    <tr>\n",
       "      <th>68</th>\n",
       "      <td>HEINEKEN cerveza 0,0% alcohol lata 33 cl</td>\n",
       "      <td>0,65€</td>\n",
       "      <td>(1,97€/l.)</td>\n",
       "    </tr>\n",
       "    <tr>\n",
       "      <th>69</th>\n",
       "      <td>DIA cerveza 0,0% alcohol pack 6 botellas 25 cl</td>\n",
       "      <td>1,75€</td>\n",
       "      <td>(1,17€/l.)</td>\n",
       "    </tr>\n",
       "    <tr>\n",
       "      <th>70</th>\n",
       "      <td>MAHOU cerveza tostada 0,0% alcohol pack 12 lat...</td>\n",
       "      <td>6,25€</td>\n",
       "      <td>(1,58€/l.)</td>\n",
       "    </tr>\n",
       "    <tr>\n",
       "      <th>71</th>\n",
       "      <td>AMSTEL Oro cerveza tostada 0,0% alcohol lata 3...</td>\n",
       "      <td>0,50€</td>\n",
       "      <td>(1,52€/l.)</td>\n",
       "    </tr>\n",
       "  </tbody>\n",
       "</table>\n",
       "<p>72 rows × 3 columns</p>\n",
       "</div>"
      ],
      "text/plain": [
       "                                             Producto  Precio    Precio/L\n",
       "0            MAHOU MIXTA cerveza con limón lata 33 cl   0,65€  (1,97€/l.)\n",
       "1                           AMSTEL cerveza lata 50 cl   0,66€  (1,32€/l.)\n",
       "2          AMSTEL cerveza radler con limón lata 33 cl   0,61€  (1,85€/l.)\n",
       "3                   AMSTEL cerveza clásica lata 33 cl   0,34€  (1,03€/l.)\n",
       "4           MAHOU cerveza clásica pack 24 latas 33 cl  12,25€  (1,55€/l.)\n",
       "..                                                ...     ...         ...\n",
       "67      MAHOU cerveza tostada 0,0% alcohol lata 33 cl   0,63€  (1,91€/l.)\n",
       "68           HEINEKEN cerveza 0,0% alcohol lata 33 cl   0,65€  (1,97€/l.)\n",
       "69     DIA cerveza 0,0% alcohol pack 6 botellas 25 cl   1,75€  (1,17€/l.)\n",
       "70  MAHOU cerveza tostada 0,0% alcohol pack 12 lat...   6,25€  (1,58€/l.)\n",
       "71  AMSTEL Oro cerveza tostada 0,0% alcohol lata 3...   0,50€  (1,52€/l.)\n",
       "\n",
       "[72 rows x 3 columns]"
      ]
     },
     "execution_count": 3,
     "metadata": {},
     "output_type": "execute_result"
    }
   ],
   "source": [
    "lista_pro=[]\n",
    "lista_pre=[]\n",
    "lista_preL=[]\n",
    "for i in range(3):\n",
    "    url=('https://www.dia.es/compra-online/search?q=cerveza%3Arelevance&page='+str(i)+'&disp=')\n",
    "    response = requests.get(url,  headers={'User-Agent': 'Mozilla/5.0'})\n",
    "    print(bool(response))\n",
    "    soup = BeautifulSoup(response.text, \"html.parser\")\n",
    "    \n",
    "    pre=soup.find_all(\"p\",class_=\"price\")\n",
    "    precio=[i.text.strip() for i in pre]\n",
    "    precio[0][4]\n",
    "    precio=[i.replace('\\xa0',\"\")for i in precio]\n",
    "    \n",
    "    pro=soup.find_all(\"span\",class_=\"details\")\n",
    "    producto=[i.text.strip() for i in pro]\n",
    "    producto=[i.replace('\\xa0',\"\")for i in producto]\n",
    "    \n",
    "    pL=soup.find_all(\"p\",class_=\"pricePerKilogram\")\n",
    "    precioL=[i.text.strip() for i in pL]\n",
    "    precioL=[i.replace('\\xa0',\"\")for i in precioL]\n",
    "    \n",
    "    lista_pro.append(producto)\n",
    "    lista_pre.append(precio)\n",
    "    lista_preL.append(precioL)\n",
    "    \n",
    "lista_pro=lista_pro[0]+lista_pro[1]+lista_pro[2]\n",
    "lista_pre=lista_pre[0]+lista_pre[1]+lista_pre[2]\n",
    "lista_preL=lista_preL[0]+lista_preL[1]+lista_preL[2]\n",
    "\n",
    "df=pd.DataFrame(columns=[\"Producto\",\"Precio\",\"Precio/L\"])\n",
    "df[\"Producto\"]=lista_pro\n",
    "df[\"Precio\"]=lista_pre\n",
    "df[\"Precio/L\"]=lista_preL\n",
    "\n",
    "df"
   ]
  },
  {
   "cell_type": "code",
   "execution_count": null,
   "metadata": {},
   "outputs": [],
   "source": []
  },
  {
   "cell_type": "code",
   "execution_count": null,
   "metadata": {},
   "outputs": [],
   "source": []
  }
 ],
 "metadata": {
  "kernelspec": {
   "display_name": "Python 3",
   "language": "python",
   "name": "python3"
  },
  "language_info": {
   "codemirror_mode": {
    "name": "ipython",
    "version": 3
   },
   "file_extension": ".py",
   "mimetype": "text/x-python",
   "name": "python",
   "nbconvert_exporter": "python",
   "pygments_lexer": "ipython3",
   "version": "3.7.4"
  }
 },
 "nbformat": 4,
 "nbformat_minor": 4
}
